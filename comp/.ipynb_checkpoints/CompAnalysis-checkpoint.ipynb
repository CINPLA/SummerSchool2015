{
 "metadata": {
  "name": "",
  "signature": "sha256:cead59ae5fb5936e6c5f9d5faa807c99e8eeaa52411c82925fa53fd3cacb43bf"
 },
 "nbformat": 3,
 "nbformat_minor": 0,
 "worksheets": [
  {
   "cells": [
    {
     "cell_type": "markdown",
     "metadata": {},
     "source": [
      "**Exercise 1:**\n",
      " 1. How much apical input is required to have \n",
      "  * only a dendritic spike (~ 0.5 nA) \n",
      "  * both a dendritic and a somatic spike (~ 2.2 nA)\n",
      " 2. How much somatic input is required to have \n",
      "  * only a somatic spike (~ 0.6 nA) \n",
      "  * both a somatic and a dendritic spike (~ 10 nA !!!?!)\n",
      " 3. Now use current input at both positions. What is the minimum total amount of current you need to get both dendritic and somatic spiking? \n",
      "  * How are they distributed? Don\u2019t spend too much time on this. (soma: 0.5 nA, apic: 0.25 nA)\n",
      "\n"
     ]
    },
    {
     "cell_type": "code",
     "collapsed": false,
     "input": [
      "%load_ext autoreload\n",
      "%autoreload 2\n",
      "from CompAnalysis import *"
     ],
     "language": "python",
     "metadata": {},
     "outputs": [],
     "prompt_number": 6
    },
    {
     "cell_type": "code",
     "collapsed": false,
     "input": [
      "cell_parameters = {\n",
      "    'morphology': 'A140612.hoc',\n",
      "    'v_init': -62,\n",
      "    'passive': False,\n",
      "    'nsegs_method': None,\n",
      "    'timeres_NEURON': 2**-3,  # Should be a power of 2\n",
      "    'timeres_python': 2**-3,\n",
      "    'tstartms': -50,\n",
      "    'tstopms': 50,\n",
      "    'custom_code': ['cell_model.hoc']\n",
      "}\n",
      "\n",
      "soma_clamp_params = {\n",
      "    'idx': 0,\n",
      "    'record_current': True,\n",
      "    'amp': -0.5, #[nA]\n",
      "    'dur': 30.,\n",
      "    'delay': 10,\n",
      "    'pptype': 'IClamp',\n",
      "    }\n",
      "apic_clamp_params = {\n",
      "    'record_current': True,\n",
      "    'amp': -.25, #[nA]\n",
      "    'dur': 30.,\n",
      "    'delay': 10,\n",
      "    'pptype': 'IClamp',\n",
      "    }\n",
      "exercise1(cell_parameters, soma_clamp_params, apic_clamp_params)"
     ],
     "language": "python",
     "metadata": {},
     "outputs": [
      {
       "ename": "TypeError",
       "evalue": "__init__() takes at least 3 arguments (4 given)",
       "output_type": "pyerr",
       "traceback": [
        "\u001b[1;31m---------------------------------------------------------------------------\u001b[0m\n\u001b[1;31mTypeError\u001b[0m                                 Traceback (most recent call last)",
        "\u001b[1;32m<ipython-input-11-b734d415e28d>\u001b[0m in \u001b[0;36m<module>\u001b[1;34m()\u001b[0m\n\u001b[0;32m     27\u001b[0m     \u001b[1;34m'pptype'\u001b[0m\u001b[1;33m:\u001b[0m \u001b[1;34m'IClamp'\u001b[0m\u001b[1;33m,\u001b[0m\u001b[1;33m\u001b[0m\u001b[0m\n\u001b[0;32m     28\u001b[0m     }\n\u001b[1;32m---> 29\u001b[1;33m \u001b[0mexercise1\u001b[0m\u001b[1;33m(\u001b[0m\u001b[0mcell_parameters\u001b[0m\u001b[1;33m,\u001b[0m \u001b[0msoma_clamp_params\u001b[0m\u001b[1;33m,\u001b[0m \u001b[0mapic_clamp_params\u001b[0m\u001b[1;33m)\u001b[0m\u001b[1;33m\u001b[0m\u001b[0m\n\u001b[0m",
        "\u001b[1;32m/home/mikkel/apps/SummerScool2015/comp/CompAnalysis.py\u001b[0m in \u001b[0;36mexercise1\u001b[1;34m(cell_parameters, soma_clamp_params, apic_clamp_params)\u001b[0m\n\u001b[0;32m     19\u001b[0m \u001b[1;33m\u001b[0m\u001b[0m\n\u001b[0;32m     20\u001b[0m     \u001b[0mcell\u001b[0m\u001b[1;33m.\u001b[0m\u001b[0msimulate\u001b[0m\u001b[1;33m(\u001b[0m\u001b[0mrec_imem\u001b[0m\u001b[1;33m=\u001b[0m\u001b[0mTrue\u001b[0m\u001b[1;33m,\u001b[0m \u001b[0mrec_vmem\u001b[0m\u001b[1;33m=\u001b[0m\u001b[0mTrue\u001b[0m\u001b[1;33m,\u001b[0m \u001b[0mrec_istim\u001b[0m\u001b[1;33m=\u001b[0m\u001b[0mTrue\u001b[0m\u001b[1;33m)\u001b[0m\u001b[1;33m\u001b[0m\u001b[0m\n\u001b[1;32m---> 21\u001b[1;33m \u001b[1;33m\u001b[0m\u001b[0m\n\u001b[0m\u001b[0;32m     22\u001b[0m     \u001b[1;31m### PLOTTING THE RESULTS\u001b[0m\u001b[1;33m\u001b[0m\u001b[1;33m\u001b[0m\u001b[0m\n\u001b[0;32m     23\u001b[0m     \u001b[0mcell_plot_idxs\u001b[0m \u001b[1;33m=\u001b[0m \u001b[1;33m[\u001b[0m\u001b[0msoma_clamp_params\u001b[0m\u001b[1;33m[\u001b[0m\u001b[1;34m'idx'\u001b[0m\u001b[1;33m]\u001b[0m\u001b[1;33m,\u001b[0m \u001b[0mapic_clamp_params\u001b[0m\u001b[1;33m[\u001b[0m\u001b[1;34m'idx'\u001b[0m\u001b[1;33m]\u001b[0m\u001b[1;33m]\u001b[0m\u001b[1;33m\u001b[0m\u001b[0m\n",
        "\u001b[1;31mTypeError\u001b[0m: __init__() takes at least 3 arguments (4 given)"
       ]
      }
     ],
     "prompt_number": 11
    },
    {
     "cell_type": "markdown",
     "metadata": {},
     "source": [
      "**Exercise 2:**\n",
      " 1. Look at extracellular spike\n",
      "  * Compare the extracellular spikes with and without a noise-level of \u00b1 15 \u00b5V\n",
      "  * By simple visual inspection, roughly how far away from the soma is the spike visible?\n",
      "  * Look at different positions around soma. Heights, distances etc. How does the spike change? \n",
      "  * Is it possible to see the dendritic spike on the recordings?\n",
      "  * Add interneuron cell and compare waveform?\n"
     ]
    }
   ],
   "metadata": {}
  }
 ]
}