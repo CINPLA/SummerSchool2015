{
 "metadata": {
  "name": "",
  "signature": "sha256:b77f2fda15a2860943f9147e554c6a3a9bbbf07e2106fc764f95e26860173af3"
 },
 "nbformat": 3,
 "nbformat_minor": 0,
 "worksheets": []
}